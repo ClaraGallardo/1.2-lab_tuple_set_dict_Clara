{
 "cells": [
  {
   "cell_type": "raw",
   "id": "27177ca0",
   "metadata": {},
   "source": [
    "# Do you know you can create tuples with only one element?\n",
    "In the cell below, define a variable tup with a single element \"I\"."
   ]
  },
  {
   "cell_type": "code",
   "execution_count": 31,
   "id": "6f5961b2",
   "metadata": {},
   "outputs": [
    {
     "data": {
      "text/plain": [
       "('I',)"
      ]
     },
     "execution_count": 31,
     "metadata": {},
     "output_type": "execute_result"
    }
   ],
   "source": [
    "tup = ('I',)\n",
    "tup"
   ]
  },
  {
   "cell_type": "raw",
   "id": "eea0b395",
   "metadata": {},
   "source": [
    "# Make sure its type is correct (i.e. tuple instead of str)."
   ]
  },
  {
   "cell_type": "code",
   "execution_count": 32,
   "id": "3b68c3c7",
   "metadata": {},
   "outputs": [
    {
     "data": {
      "text/plain": [
       "tuple"
      ]
     },
     "execution_count": 32,
     "metadata": {},
     "output_type": "execute_result"
    }
   ],
   "source": [
    "type(tup)"
   ]
  },
  {
   "cell_type": "raw",
   "id": "499bae6f",
   "metadata": {},
   "source": [
    "Now try to append the following elements to tup.\n",
    "Are you able to do it? Explain.\n",
    "\n",
    "\"r\", \"o\", \"n\", \"h\", \"a\", \"c\", \"k',\n"
   ]
  },
  {
   "cell_type": "code",
   "execution_count": 75,
   "id": "caac497b",
   "metadata": {},
   "outputs": [
    {
     "ename": "AttributeError",
     "evalue": "'tuple' object has no attribute 'append'",
     "output_type": "error",
     "traceback": [
      "\u001b[1;31m---------------------------------------------------------------------------\u001b[0m",
      "\u001b[1;31mAttributeError\u001b[0m                            Traceback (most recent call last)",
      "Cell \u001b[1;32mIn[75], line 1\u001b[0m\n\u001b[1;32m----> 1\u001b[0m tup\u001b[38;5;241m.\u001b[39mappend(\u001b[38;5;124m\"\u001b[39m\u001b[38;5;124mr\u001b[39m\u001b[38;5;124m\"\u001b[39m, \u001b[38;5;124m\"\u001b[39m\u001b[38;5;124mo\u001b[39m\u001b[38;5;124m\"\u001b[39m, \u001b[38;5;124m\"\u001b[39m\u001b[38;5;124mn\u001b[39m\u001b[38;5;124m\"\u001b[39m, \u001b[38;5;124m\"\u001b[39m\u001b[38;5;124mh\u001b[39m\u001b[38;5;124m\"\u001b[39m, \u001b[38;5;124m\"\u001b[39m\u001b[38;5;124ma\u001b[39m\u001b[38;5;124m\"\u001b[39m, \u001b[38;5;124m\"\u001b[39m\u001b[38;5;124mc\u001b[39m\u001b[38;5;124m\"\u001b[39m, \u001b[38;5;124m\"\u001b[39m\u001b[38;5;124mk\u001b[39m\u001b[38;5;124m\"\u001b[39m,)\n",
      "\u001b[1;31mAttributeError\u001b[0m: 'tuple' object has no attribute 'append'"
     ]
    }
   ],
   "source": [
    "tup.append(\"r\", \"o\", \"n\", \"h\", \"a\", \"c\", \"k\",)"
   ]
  },
  {
   "cell_type": "code",
   "execution_count": 35,
   "id": "c62c1348",
   "metadata": {},
   "outputs": [
    {
     "name": "stdout",
     "output_type": "stream",
     "text": [
      "['I']\n",
      "['I', 'r', 'o', 'n', 'h', 'a', 'c', 'k']\n"
     ]
    }
   ],
   "source": [
    "#Las tuplas son inmutables por lo que no podemos añadir ni modificar ningún elemnto. Para poder hacer esto, necesitamos convertir la tupla en una lista.\n",
    "\n",
    "tup=list(tup)\n",
    "type(tup)\n",
    "\n",
    "print (tup)\n",
    "\n",
    "nuevos_elementos=[\"r\", \"o\", \"n\", \"h\", \"a\", \"c\", \"k\"]\n",
    "\n",
    "tup= tup+nuevos_elementos\n",
    "\n",
    "print(tup)\n",
    "\n"
   ]
  },
  {
   "cell_type": "raw",
   "id": "4c9f8bd3",
   "metadata": {},
   "source": [
    "Split tup into tup1 and tup2 with 4 elements in each.\n",
    "tup1 should be (\"I\", \"r\", \"o\", \"n\") and tup2 should be (\"h\", \"a\", \"c\", \"k\").\n",
    "\n",
    "Hint: use positive index numbers for tup1 assignment and use negative index numbers for tup2 assignment. Positive index numbers count from the beginning whereas negative index numbers count from the end of the sequence.\n",
    "\n",
    "Also print tup1 and tup2."
   ]
  },
  {
   "cell_type": "code",
   "execution_count": 42,
   "id": "96e1ed40",
   "metadata": {},
   "outputs": [
    {
     "name": "stdout",
     "output_type": "stream",
     "text": [
      "('I', 'r', 'o', 'n')\n",
      "('h', 'a', 'c', 'k')\n"
     ]
    }
   ],
   "source": [
    "#convertimos primero a tupla de nuevo para poder aplicar .split\n",
    "\n",
    "tup=tuple(tup)\n",
    "type(tup)\n",
    "\n",
    "#creamos dos tuplas por separado poniendo como tope el elemento en el que\n",
    "#queremos separar, en este caso 'n' que esta en la 3, por lo que usaremos el siguiente:4.\n",
    "\n",
    "tup1=tup[:4]\n",
    "tup2=tup[4:]\n",
    "\n",
    "print(tup1)\n",
    "print(tup2)"
   ]
  },
  {
   "cell_type": "raw",
   "id": "e90f4fec",
   "metadata": {},
   "source": [
    "Add tup1 and tup2 into tup3 using the + operator."
   ]
  },
  {
   "cell_type": "code",
   "execution_count": 43,
   "id": "2223521c",
   "metadata": {},
   "outputs": [
    {
     "name": "stdout",
     "output_type": "stream",
     "text": [
      "('I', 'r', 'o', 'n', 'h', 'a', 'c', 'k')\n"
     ]
    }
   ],
   "source": [
    "tup1+tup2\n",
    "\n",
    "print(tup)"
   ]
  },
  {
   "cell_type": "raw",
   "id": "24083f87",
   "metadata": {},
   "source": [
    "Count the number of elements in tup1 and tup2. Then add the two counts together and check if the sum is the same as the number of elements in tup3."
   ]
  },
  {
   "cell_type": "code",
   "execution_count": 53,
   "id": "b1c58534",
   "metadata": {
    "scrolled": true
   },
   "outputs": [
    {
     "name": "stdout",
     "output_type": "stream",
     "text": [
      "Elementos de tup1: 4\n",
      "Elementos de tup2: 4\n",
      "Elementos de tup3: 8\n",
      "La suma del numero de elementos de tup 1 + tup 2 es iguales a tup3\n"
     ]
    }
   ],
   "source": [
    "#Usamos len() para ver la longitud de la lista,\n",
    "#como el resultado es un número podemos usarlo para operara con el\n",
    "\n",
    "print ('Elementos de tup1:',len(tup1))\n",
    "print ('Elementos de tup2:',len(tup2))\n",
    "\n",
    "tup3=tup1+tup2\n",
    "\n",
    "print ('Elementos de tup3:',len(tup3))\n",
    "\n",
    "if (len(tup3))==(len(tup1))+(len(tup2)):\n",
    "    print('La suma del numero de elementos de tup 1 + tup 2 es iguales a tup3')\n",
    "\n",
    "else:\n",
    "    print('La suma del numero de elementos de tup 1 + tup 2 no es iguales a tup3')"
   ]
  },
  {
   "cell_type": "raw",
   "id": "d2f56fff",
   "metadata": {},
   "source": [
    "What is the index number of \"h\" in tup3?"
   ]
  },
  {
   "cell_type": "code",
   "execution_count": 58,
   "id": "95e75c74",
   "metadata": {},
   "outputs": [
    {
     "data": {
      "text/plain": [
       "4"
      ]
     },
     "execution_count": 58,
     "metadata": {},
     "output_type": "execute_result"
    }
   ],
   "source": [
    "tup3.index('h')"
   ]
  },
  {
   "cell_type": "raw",
   "id": "9eac6725",
   "metadata": {},
   "source": [
    "Now, use a FOR loop to check whether each letter in the following list is present in tup3:"
   ]
  },
  {
   "cell_type": "code",
   "execution_count": 69,
   "id": "2db8918f",
   "metadata": {},
   "outputs": [
    {
     "name": "stdout",
     "output_type": "stream",
     "text": [
      "El elemento (a) SI esta en tup3\n",
      "El elemnto (b) NO esta en tup3\n",
      "El elemento (c) SI esta en tup3\n",
      "El elemnto (d) NO esta en tup3\n",
      "El elemnto (e) NO esta en tup3\n"
     ]
    }
   ],
   "source": [
    "#Para chequear si los elementos de la lista 'letters' estan en tup3\n",
    "#tenemos que chequear elemento a elemento desde letters a tup3:\n",
    "\n",
    "\n",
    "letters = [\"a\", \"b\", \"c\", \"d\", \"e\"]\n",
    "\n",
    "for letra in letters:\n",
    "    \n",
    "    if letra in tup3:\n",
    "        print(f'El elemento ({letra}) SI esta en tup3')\n",
    "        \n",
    "    else:\n",
    "        print (f'El elemnto ({letra}) NO esta en tup3')\n",
    "    "
   ]
  },
  {
   "cell_type": "raw",
   "id": "263cc2c0",
   "metadata": {},
   "source": [
    "How many times does each letter in letters appear in tup3?"
   ]
  },
  {
   "cell_type": "code",
   "execution_count": null,
   "id": "ba083e47",
   "metadata": {},
   "outputs": [],
   "source": [
    "# Usamos .count para ver cada elemento"
   ]
  },
  {
   "cell_type": "code",
   "execution_count": 73,
   "id": "79515787",
   "metadata": {},
   "outputs": [
    {
     "name": "stdout",
     "output_type": "stream",
     "text": [
      "El elemento (a) parece 1 veces\n",
      "El elemnto (b) NO esta en tup3\n",
      "El elemento (c) parece 1 veces\n",
      "El elemnto (d) NO esta en tup3\n",
      "El elemnto (e) NO esta en tup3\n"
     ]
    }
   ],
   "source": [
    "for letra in letters:\n",
    "    if letra in tup3:\n",
    "        numero=tup3.count(letra)\n",
    "        print(f'El elemento ({letra}) parece {numero} veces')\n",
    "    else:\n",
    "          print (f'El elemnto ({letra}) NO esta en tup3')"
   ]
  }
 ],
 "metadata": {
  "kernelspec": {
   "display_name": "Python 3 (ipykernel)",
   "language": "python",
   "name": "python3"
  },
  "language_info": {
   "codemirror_mode": {
    "name": "ipython",
    "version": 3
   },
   "file_extension": ".py",
   "mimetype": "text/x-python",
   "name": "python",
   "nbconvert_exporter": "python",
   "pygments_lexer": "ipython3",
   "version": "3.11.4"
  }
 },
 "nbformat": 4,
 "nbformat_minor": 5
}

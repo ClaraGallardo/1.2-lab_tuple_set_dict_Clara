{
 "cells": [
  {
   "cell_type": "code",
   "execution_count": 1,
   "id": "245030f7",
   "metadata": {},
   "outputs": [],
   "source": [
    "#First, import the Python random library.\n",
    "\n",
    "import random"
   ]
  },
  {
   "cell_type": "raw",
   "id": "0ed49f5f",
   "metadata": {},
   "source": [
    "In the cell below, create a list named sample_list_1 with 80 random values.\n",
    "Requirements:\n",
    "\n",
    "Each value is an integer falling between 0 and 100.\n",
    "Each value in the list is unique.\n",
    "\n",
    "Print sample_list_1 to review its values"
   ]
  },
  {
   "cell_type": "code",
   "execution_count": 2,
   "id": "687384f4",
   "metadata": {
    "scrolled": false
   },
   "outputs": [
    {
     "name": "stdout",
     "output_type": "stream",
     "text": [
      "[86, 5, 31, 58, 53, 63, 95, 54, 97, 92, 8, 96, 67, 85, 56, 28, 27, 23, 34, 82, 71, 49, 18, 98, 4, 94, 90, 64, 84, 14, 60, 39, 51, 38, 75, 25, 6, 89, 10, 48, 99, 1, 15, 68, 91, 29, 22, 32, 33, 12, 30, 2, 93, 36, 16, 87, 52, 59, 0, 50, 62, 46, 9, 74, 78, 72, 42, 7, 65, 88, 44, 79, 47, 100, 26, 57, 19, 13, 21, 37]\n"
     ]
    }
   ],
   "source": [
    "#creamos la lista sample_list_1, luego añadimos los elementos usando random, dandole las indicaciones de poner numero sin repeticion (.sample)\n",
    "#range para indicarle hasta que número queremos y k para para la cantidad de numero\n",
    "\n",
    "sample_list_1= []\n",
    "\n",
    "elementos = random.sample (range(101),k=80)\n",
    "\n",
    "sample_list_1=sample_list_1+elementos\n",
    "\n",
    "print(sample_list_1)"
   ]
  },
  {
   "cell_type": "raw",
   "id": "46e6f9f2",
   "metadata": {},
   "source": [
    "Convert sample_list_2 to a set called set2. Print the length of the set. Is its length still 80?"
   ]
  },
  {
   "cell_type": "code",
   "execution_count": 3,
   "id": "f7902ddd",
   "metadata": {},
   "outputs": [
    {
     "name": "stdout",
     "output_type": "stream",
     "text": [
      "80\n"
     ]
    }
   ],
   "source": [
    "#convertimos lista en set e imprimos longuitod con len\n",
    "set1=set(sample_list_1)\n",
    "\n",
    "print(len(set1))\n"
   ]
  },
  {
   "cell_type": "raw",
   "id": "5e603065",
   "metadata": {},
   "source": [
    "Create another list named sample_list_2 with 80 random values.\n",
    "\n",
    "Requirements:\n",
    "\n",
    "Each value is an integer falling between 0 and 100.\n",
    "The values in the list don't have to be unique.\n"
   ]
  },
  {
   "cell_type": "code",
   "execution_count": 4,
   "id": "4f596896",
   "metadata": {},
   "outputs": [
    {
     "name": "stdout",
     "output_type": "stream",
     "text": [
      "[85, 49, 60, 61, 39, 89, 84, 59, 56, 43, 52, 78, 65, 71, 99, 31, 69, 96, 27, 58, 68, 39, 24, 5, 12, 52, 86, 100, 14, 2, 91, 0, 69, 28, 20, 56, 69, 56, 58, 10, 89, 75, 28, 5, 24, 97, 87, 8, 24, 97, 60, 35, 83, 100, 79, 73, 73, 89, 15, 93, 11, 26, 78, 36, 3, 10, 63, 3, 0, 2, 61, 25, 8, 81, 22, 49, 48, 56, 74, 36]\n"
     ]
    }
   ],
   "source": [
    "sample_list_2= []\n",
    "\n",
    "for elemento in range(80):\n",
    "    elemento = random.randint (0,100)\n",
    "    sample_list_2.append(elemento)\n",
    "\n",
    "print(sample_list_2)\n"
   ]
  },
  {
   "cell_type": "code",
   "execution_count": 5,
   "id": "bb4d4c46",
   "metadata": {},
   "outputs": [
    {
     "name": "stdout",
     "output_type": "stream",
     "text": [
      "80\n"
     ]
    }
   ],
   "source": [
    "# Convert sample_list_2 to a set called set2. \n",
    "#Print the length of the set. Is its length still 80?\n",
    "\n",
    "set2=set(sample_list_2)\n",
    "print(len(sample_list_2))"
   ]
  },
  {
   "cell_type": "code",
   "execution_count": 8,
   "id": "126af969",
   "metadata": {},
   "outputs": [
    {
     "name": "stdout",
     "output_type": "stream",
     "text": [
      "{0, 2, 5, 8, 10, 12, 14, 15, 22, 25, 26, 27, 28, 31, 36, 39, 48, 49, 52, 56, 58, 59, 60, 63, 65, 68, 71, 74, 75, 78, 79, 84, 85, 86, 87, 89, 91, 93, 96, 97, 99, 100}\n"
     ]
    }
   ],
   "source": [
    "# Identify the elements present in set1 but not in set2. \n",
    "#Assign the elements to a new set named set3.\n",
    "set3=set1 & set2\n",
    "print(set3)"
   ]
  }
 ],
 "metadata": {
  "kernelspec": {
   "display_name": "clase",
   "language": "python",
   "name": "clase"
  },
  "language_info": {
   "codemirror_mode": {
    "name": "ipython",
    "version": 3
   },
   "file_extension": ".py",
   "mimetype": "text/x-python",
   "name": "python",
   "nbconvert_exporter": "python",
   "pygments_lexer": "ipython3",
   "version": "3.10.13"
  }
 },
 "nbformat": 4,
 "nbformat_minor": 5
}

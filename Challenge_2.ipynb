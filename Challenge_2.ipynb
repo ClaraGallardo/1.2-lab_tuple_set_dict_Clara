{
 "cells": [
  {
   "cell_type": "code",
   "execution_count": 1,
   "id": "14b2fdab",
   "metadata": {},
   "outputs": [],
   "source": [
    "#First, import the Python random library.\n",
    "\n",
    "import random"
   ]
  },
  {
   "cell_type": "raw",
   "id": "2e9bd86b",
   "metadata": {},
   "source": [
    "In the cell below, create a list named sample_list_1 with 80 random values.\n",
    "Requirements:\n",
    "\n",
    "Each value is an integer falling between 0 and 100.\n",
    "Each value in the list is unique.\n",
    "\n",
    "Print sample_list_1 to review its values"
   ]
  },
  {
   "cell_type": "code",
   "execution_count": 2,
   "id": "085c381d",
   "metadata": {
    "scrolled": false
   },
   "outputs": [
    {
     "name": "stdout",
     "output_type": "stream",
     "text": [
      "[86, 5, 31, 58, 53, 63, 95, 54, 97, 92, 8, 96, 67, 85, 56, 28, 27, 23, 34, 82, 71, 49, 18, 98, 4, 94, 90, 64, 84, 14, 60, 39, 51, 38, 75, 25, 6, 89, 10, 48, 99, 1, 15, 68, 91, 29, 22, 32, 33, 12, 30, 2, 93, 36, 16, 87, 52, 59, 0, 50, 62, 46, 9, 74, 78, 72, 42, 7, 65, 88, 44, 79, 47, 100, 26, 57, 19, 13, 21, 37]\n"
     ]
    }
   ],
   "source": [
    "#creamos la lista sample_list_1, luego añadimos los elementos usando random, dandole las indicaciones de poner numero sin repeticion (.sample)\n",
    "#range para indicarle hasta que número queremos y k para para la cantidad de numero\n",
    "\n",
    "sample_list_1= []\n",
    "\n",
    "elementos = random.sample (range(101),k=80)\n",
    "\n",
    "sample_list_1=sample_list_1+elementos\n",
    "\n",
    "print(sample_list_1)"
   ]
  },
  {
   "cell_type": "raw",
   "id": "2a90a095",
   "metadata": {},
   "source": [
    "Convert sample_list_2 to a set called set2. Print the length of the set. Is its length still 80?"
   ]
  },
  {
   "cell_type": "code",
   "execution_count": 3,
   "id": "14d47625",
   "metadata": {},
   "outputs": [
    {
     "name": "stdout",
     "output_type": "stream",
     "text": [
      "80\n"
     ]
    }
   ],
   "source": [
    "#convertimos lista en set e imprimos longuitod con len\n",
    "set1=set(sample_list_1)\n",
    "\n",
    "print(len(set1))\n"
   ]
  },
  {
   "cell_type": "raw",
   "id": "c93012ef",
   "metadata": {},
   "source": [
    "Create another list named sample_list_2 with 80 random values.\n",
    "\n",
    "Requirements:\n",
    "\n",
    "Each value is an integer falling between 0 and 100.\n",
    "The values in the list don't have to be unique.\n"
   ]
  },
  {
   "cell_type": "code",
   "execution_count": 4,
   "id": "0512af05",
   "metadata": {},
   "outputs": [
    {
     "name": "stdout",
     "output_type": "stream",
     "text": [
      "[85, 49, 60, 61, 39, 89, 84, 59, 56, 43, 52, 78, 65, 71, 99, 31, 69, 96, 27, 58, 68, 39, 24, 5, 12, 52, 86, 100, 14, 2, 91, 0, 69, 28, 20, 56, 69, 56, 58, 10, 89, 75, 28, 5, 24, 97, 87, 8, 24, 97, 60, 35, 83, 100, 79, 73, 73, 89, 15, 93, 11, 26, 78, 36, 3, 10, 63, 3, 0, 2, 61, 25, 8, 81, 22, 49, 48, 56, 74, 36]\n"
     ]
    }
   ],
   "source": [
    "sample_list_2= []\n",
    "\n",
    "for elemento in range(80):\n",
    "    elemento = random.randint (0,100)\n",
    "    sample_list_2.append(elemento)\n",
    "\n",
    "print(sample_list_2)\n"
   ]
  },
  {
   "cell_type": "code",
   "execution_count": 5,
   "id": "2e854461",
   "metadata": {},
   "outputs": [
    {
     "name": "stdout",
     "output_type": "stream",
     "text": [
      "80\n"
     ]
    }
   ],
   "source": [
    "# Convert sample_list_2 to a set called set2. \n",
    "#Print the length of the set. Is its length still 80?\n",
    "\n",
    "set2=set(sample_list_2)\n",
    "print(len(sample_list_2))"
   ]
  },
  {
   "cell_type": "code",
   "execution_count": 10,
   "id": "29a89694",
   "metadata": {},
   "outputs": [
    {
     "name": "stdout",
     "output_type": "stream",
     "text": [
      "{1, 4, 6, 7, 9, 13, 16, 18, 19, 21, 23, 29, 30, 32, 33, 34, 37, 38, 42, 44, 46, 47, 50, 51, 53, 54, 57, 62, 64, 67, 72, 82, 88, 90, 92, 94, 95, 98}\n"
     ]
    }
   ],
   "source": [
    "# Identify the elements present in set1 but not in set2. \n",
    "#Assign the elements to a new set named set3.\n",
    "comunes= set1&set2\n",
    "set3= set1-comunes\n",
    "print(set3)"
   ]
  }
 ],
 "metadata": {
  "kernelspec": {
   "display_name": "clase",
   "language": "python",
   "name": "clase"
  },
  "language_info": {
   "codemirror_mode": {
    "name": "ipython",
    "version": 3
   },
   "file_extension": ".py",
   "mimetype": "text/x-python",
   "name": "python",
   "nbconvert_exporter": "python",
   "pygments_lexer": "ipython3",
   "version": "3.10.13"
  }
 },
 "nbformat": 4,
 "nbformat_minor": 5
}
